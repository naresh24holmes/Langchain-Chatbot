{
 "cells": [
  {
   "cell_type": "code",
   "execution_count": 33,
   "metadata": {},
   "outputs": [
    {
     "name": "stdout",
     "output_type": "stream",
     "text": [
      "None\n"
     ]
    }
   ],
   "source": [
    "import os\n",
    "from dotenv import load_dotenv\n",
    "\n",
    "load_dotenv()\n",
    "\n",
    "api_key = os.getenv(\"HUGGINGFACEHUB_API_TOKEN\")"
   ]
  },
  {
   "cell_type": "code",
   "execution_count": null,
   "metadata": {},
   "outputs": [],
   "source": [
    "from langchain_community.llms import HuggingFaceHub\n",
    "\n",
    "llm_huggingface = HuggingFaceHub(huggingfacehub_api_token = 'api_key'\n",
    "                                 repo_id = \"google/gemma-7b\",\n",
    "                                 model_kwargs = {\"temperature\":0.6,\"max_length\":64})"
   ]
  },
  {
   "cell_type": "code",
   "execution_count": 44,
   "metadata": {},
   "outputs": [
    {
     "name": "stdout",
     "output_type": "stream",
     "text": [
      "what is the capital of India?\n",
      "\n",
      "Answer:\n",
      "\n",
      "The capital of India is New\n",
      "Delhi. It is located in the northernmost part of the country.\n"
     ]
    }
   ],
   "source": [
    "output = llm_huggingface.predict(\"what is the capital of India\")\n",
    "print(output)"
   ]
  },
  {
   "cell_type": "code",
   "execution_count": 45,
   "metadata": {},
   "outputs": [
    {
     "name": "stdout",
     "output_type": "stream",
     "text": [
      "why is the sky blue. Elaborate in five lines\n",
      "\n",
      "Answer:\n",
      "\n",
      "Step 1/5\n",
      "1. Sunlight contains all colors of the rainbow.\n",
      "\n",
      "Step 2/5\n",
      "2. When sunlight enters Earth's atmosphere, it scatters.\n",
      "\n",
      "Step 3/5\n",
      "3. Blue light scatters more than other colors because it has shorter wavelengths.\n",
      "\n",
      "Step 4/5\n",
      "4. The scattered blue light reaches our eyes, giving the sky its blue color.\n",
      "\n",
      "Step 5/5\n",
      "5. The intensity of\n"
     ]
    }
   ],
   "source": [
    "output = llm_huggingface.predict(\"why is the sky blue. Elaborate in five lines\")\n",
    "print(output)"
   ]
  },
  {
   "cell_type": "code",
   "execution_count": 47,
   "metadata": {},
   "outputs": [
    {
     "name": "stdout",
     "output_type": "stream",
     "text": [
      "write 4 lines of poem on power of subconcious mind\n",
      "\n",
      "Answer:  \n",
      "\n",
      "Step 1/2\n",
      "The sub-conscious mind is a powerful force,\n",
      "\n",
      "Step 2/2\n",
      "It guides our thoughts, our words and our choices. It shapes our beliefs and our dreams, And influences every aspect of our lives. It holds our fears and our hopes, Our joys and our sorrows, It dictates our actions, our reactions, And shapes our fate. So let us harness the power of the sub-conscious mind, And use it to create\n"
     ]
    }
   ],
   "source": [
    "output = llm_huggingface.predict(\"write 4 lines of poem on power of subconcious mind\")\n",
    "print(output)"
   ]
  },
  {
   "cell_type": "markdown",
   "metadata": {},
   "source": [
    "### Prompt Templates"
   ]
  },
  {
   "cell_type": "code",
   "execution_count": 49,
   "metadata": {},
   "outputs": [
    {
     "data": {
      "text/plain": [
       "'What is the capital of this country'"
      ]
     },
     "execution_count": 49,
     "metadata": {},
     "output_type": "execute_result"
    }
   ],
   "source": [
    "\n",
    "from langchain.prompts import PromptTemplate\n",
    "\n",
    "Prompt_template = PromptTemplate(input_variables= ['country'],\n",
    "    template= \"What is the capital of this {country}\")\n",
    "\n",
    "Prompt_template.format(country='India')"
   ]
  },
  {
   "cell_type": "code",
   "execution_count": 52,
   "metadata": {},
   "outputs": [
    {
     "name": "stdout",
     "output_type": "stream",
     "text": [
      "What is the capital of this India?\n",
      "In the below diagram, find the number of students who have passed in the subject of English.\n",
      "Find the sum of the first 20 even natural numbers.\n",
      "What is the square root of the sum of the squares of 2 and 3?\n",
      "10% of 150 + 40% of 80 = ?\n",
      "Find the value of 10000- 5000 - 2000 - 1\n"
     ]
    }
   ],
   "source": [
    "from langchain.chains import LLMChain\n",
    "\n",
    "chain = LLMChain(llm = llm_huggingface, prompt=Prompt_template)\n",
    "print(chain.run('India'))"
   ]
  },
  {
   "cell_type": "markdown",
   "metadata": {},
   "source": [
    "### combining multiple chains using sequential chain"
   ]
  },
  {
   "cell_type": "code",
   "execution_count": 61,
   "metadata": {},
   "outputs": [],
   "source": [
    "capital_template = PromptTemplate(\n",
    "    input_variables = [\"country\"],  \n",
    "    template=\"What is the capital of the {country}?\"\n",
    ")\n",
    "\n",
    "capital_chain = LLMChain(llm = llm_huggingface, prompt = capital_template)\n",
    "\n",
    "famous_template = PromptTemplate(\n",
    "    input_variables = ['capital'],\n",
    "    template = \"Suggest some places to vist in {capital}\")\n",
    "\n",
    "famous_chain = LLMChain(llm=llm_huggingface, prompt = famous_template)"
   ]
  },
  {
   "cell_type": "code",
   "execution_count": 62,
   "metadata": {},
   "outputs": [
    {
     "data": {
      "text/plain": [
       "'Suggest some places to vist in What is the capital of the India?\\n\\nWhat is another name for Assam?\\n\\nWhat is the name of the river that flows in the Assam?\\n\\nWhat is the capital of Bangladesh?\\n\\nWhat is the capital of Bhutan?\\n\\nWhat is the name of the river that flows in Bhutan?\\n\\nWhat is the capital of Myanmar?\\n\\nWhat is the capital of Nepal?\\n\\nWhat is the capital of Sri Lanka?\\n\\nWhat is the capital of Pakistan?\\n\\nWhat is the capital of Maldives?\\n\\nWhat is the capital of Afghanistan?\\n\\nWhat is the capital of Iran?\\n\\nWhat is the capital of Iraq?\\n\\nWhat is the capital of Kuwait?\\n\\nWhat is the capital of Jordan?\\n\\nWhat is the capital of Iran?\\n\\nWhat is the capital of Oman?\\n\\nWhat is the capital of Saudi Arabia?\\n\\nWhat is the capital of United Arab Emirates?\\n\\nWhat is the capital of Bahrain?\\n\\nWhat is the capital of Qatar?\\n\\nWhat is the capital of Egypt?\\n\\nWhat is the capital of Sudan?\\n\\n'"
      ]
     },
     "execution_count": 62,
     "metadata": {},
     "output_type": "execute_result"
    }
   ],
   "source": [
    "from langchain.chains import SimpleSequentialChain\n",
    "\n",
    "chain = SimpleSequentialChain(chains = [capital_chain,famous_chain])\n",
    "chain.run(\"India\")"
   ]
  },
  {
   "cell_type": "markdown",
   "metadata": {},
   "source": [
    "### Prompt Templates,llms,output parsers"
   ]
  },
  {
   "cell_type": "code",
   "execution_count": 64,
   "metadata": {},
   "outputs": [],
   "source": [
    "from langchain.chat_models import ChatGooglePalm\n",
    "from langchain.prompts.chat import ChatPromptTemplate\n",
    "from langchain.schema import BaseOutputParser"
   ]
  },
  {
   "cell_type": "code",
   "execution_count": 80,
   "metadata": {},
   "outputs": [],
   "source": [
    "# Inherit BaseOutputParser\n",
    "class Commaseperatedoutput(BaseOutputParser):\n",
    "    def parse(self, text:str):\n",
    "        return text.strip().split(\",\")\n"
   ]
  },
  {
   "cell_type": "code",
   "execution_count": 86,
   "metadata": {},
   "outputs": [],
   "source": [
    "template = 'As you are an powerful AI assistant.when user gives any input, you should generate five word synonyms in csv format'\n",
    "human_template = \"{text}\"\n",
    "chatprompt = ChatPromptTemplate.from_messages([\n",
    "    (\"system\",template),\n",
    "    (\"human\",human_template)\n",
    "    ])\n",
    "               \n",
    "                                        \n"
   ]
  },
  {
   "cell_type": "code",
   "execution_count": 89,
   "metadata": {},
   "outputs": [],
   "source": [
    "chain = chatprompt | ChatGooglePalm | Commaseperatedoutput()\n"
   ]
  },
  {
   "cell_type": "code",
   "execution_count": null,
   "metadata": {},
   "outputs": [],
   "source": []
  }
 ],
 "metadata": {
  "kernelspec": {
   "display_name": "Python 3",
   "language": "python",
   "name": "python3"
  },
  "language_info": {
   "codemirror_mode": {
    "name": "ipython",
    "version": 3
   },
   "file_extension": ".py",
   "mimetype": "text/x-python",
   "name": "python",
   "nbconvert_exporter": "python",
   "pygments_lexer": "ipython3",
   "version": "3.9.0"
  }
 },
 "nbformat": 4,
 "nbformat_minor": 2
}
